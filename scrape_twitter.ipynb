{
 "cells": [
  {
   "cell_type": "code",
   "execution_count": 1,
   "id": "5aa657a1-98ab-4471-b8c4-548544426feb",
   "metadata": {},
   "outputs": [],
   "source": [
    "import twint"
   ]
  },
  {
   "cell_type": "code",
   "execution_count": 2,
   "id": "3ee08efd-6b3c-403a-b73d-e978f4dd133d",
   "metadata": {},
   "outputs": [],
   "source": [
    "# Fix because IPython already runs async loop, and Twint does as well\n",
    "import nest_asyncio\n",
    "nest_asyncio.apply()"
   ]
  },
  {
   "cell_type": "code",
   "execution_count": 3,
   "id": "8309b681-f4e1-4b68-8c13-b03236a7fb12",
   "metadata": {},
   "outputs": [],
   "source": [
    "#configuration\n",
    "config = twint.Config()\n",
    "config.Search = \"bitcoin\"\n",
    "config.Limit = 10"
   ]
  },
  {
   "cell_type": "code",
   "execution_count": 4,
   "id": "4d67794e-138e-4c05-a6ed-5b7ae63410ca",
   "metadata": {},
   "outputs": [
    {
     "name": "stdout",
     "output_type": "stream",
     "text": [
      "1381726965896507394 2021-04-12 23:52:34 +0200 <SantaCl77902010> #BNB 24hr #BTC volume on @binance 26k #ETH 24hr #BTC volume on #Binance 7.5k And #ETH is meant to be outperforming #Bitcoin this year LMFWAO ☠️☠️☠️☠️☠️\n",
      "1381726959558885378 2021-04-12 23:52:33 +0200 <SomeoneTrades> #Tenset is about to break out.   If volume increases soon we will see another leg up.  Perfect time for accumulation.   #Bitcoin #Cryptocurrency #DeFi #NFT $BTC $ETH $ADA $DOT $THETA $TFUEL $DOWS $OCTO $TVK $PAID  https://t.co/vbSOvhSdCl\n",
      "1381726957646282754 2021-04-12 23:52:32 +0200 <crypto_stimulus> $BTC: $10,112.17 (842.68%) $ETH: $14,966.68 (1,247.22%) $ADA: $45,548.37 (3,795.70%) $BNB: $46,137.51 (3,844.79%) $DOGE: $43,659.53 (3,638.29%) $LINK: $12,724.14 (1,060.35%) $TRX: $13,059.14 (1,088.26%) $XRP: $8,676.17 (723.01%)  #bitcoin #doge #cardano #ethereum #bnb\n",
      "1381726947495923714 2021-04-12 23:52:30 +0200 <SOHiOnJuice> Now they want you to believe they pulled a \"gun instead of a taser\".   They're all outlaws - #SOHiJuice\n",
      "1381726935143882753 2021-04-12 23:52:27 +0200 <OTC_bItcoin_o> HOLY SHIT THERE's SOOO MUCH TO BUY IN BINANCE!!! IF YOU HAVE 0.3 BTC, YOU ARE IN! MESSAGE and start by selling everything into Bitcoin ONLY.\n",
      "1381726934393098245 2021-04-12 23:52:27 +0200 <androidkazanc>  https://t.co/H5qcm8UeeD  Yatirimsiz kazanc sistemleri tanıtımı videoları   #Chz  #ramadanmubarak  #Ramazan  #cukur  #Cardano  #Chiliz  #Polkadot  #paribu  #paribupismanlıktır  #BinanceTR  #BinanceSmartChain  #Bitcoin  #Binance  #BNB  #DOT  #doge  #EGLD  #Freecoin  #Holocoin\n",
      "1381726929355747329 2021-04-12 23:52:25 +0200 <hardcoreinvest1> The Simpsons predicted #bitcoin going up forever.... they havnt been wrong on alot of thier predictions.... just saying lol\n",
      "1381726916374224897 2021-04-12 23:52:22 +0200 <CryptoCryptoNe3> Bitcoin Nears Trigger, AAPL Set To Rally CRYPTO CRYPTO NEWS -  https://t.co/H3trQnaAwv  https://t.co/t0WpnNmhtd\n",
      "1381726913849352193 2021-04-12 23:52:22 +0200 <theoldrepublic> @naval Math isn't prefect that's true, remember the whole Bitcoin double pay bug.\n",
      "1381726913463455746 2021-04-12 23:52:22 +0200 <sthakali123> @JoePompliano Can we pay for subscription for premier league in bitcoin?\n",
      "1381726910510604291 2021-04-12 23:52:21 +0200 <Bitcoin_Sam> @Bquittem Started selling my basketball collection a few months ago. Already made about 10x more than I was expecting. I knew the market was hot but I wasn't expecting to unload them that quickly. Only a little bit left. Most proceeds have been used for some needs and sats.\n",
      "1381726910292582409 2021-04-12 23:52:21 +0200 <kingbradley1111> @UTRUST 👍😉\n",
      "1381726906152747008 2021-04-12 23:52:20 +0200 <bankrupt_to> @michael_saylor @MicroStrategy The new normal\n",
      "1381726905238360065 2021-04-12 23:52:20 +0200 <enchiridion47> Making calls for Bitcoin Core breakout for past couple months, and you keep gaining followers.  I tell you it's altseason, $BTC.D to zero, and still sub 1k.  Crazy how that works.\n",
      "1381726902092763139 2021-04-12 23:52:19 +0200 <cryptchopper> Reaaalllly #BTC #Bitcoin #Crypto #cryptocurrency #XRPCommunity\n",
      "1381726889354481667 2021-04-12 23:52:16 +0200 <LeotradeX> #Bitcoin Everyone just Hit MARKET BUY Now. These whales don’t love us.   And also #BNB about to rip harder.\n",
      "1381726885114212354 2021-04-12 23:52:15 +0200 <Options> CEO of a top #bitcoin exchange warns a crackdown on #cryptocurrencies may be coming      https://t.co/cXVqz6IX0E\n",
      "1381726879208603648 2021-04-12 23:52:13 +0200 <AhyTrader> #fun iyice daraldı 0.40 💰 alım koydum ya nasip 🥶 #btc #Bitcoin . YTD  https://t.co/RjBeTXbK49\n",
      "1381726874636804097 2021-04-12 23:52:12 +0200 <K46452281> Hi - I've been using Coinbase which makes it really easy and safe to buy, sell, and store digital currency (like Bitcoin). Sign up now and get CA$12.56 of free Bitcoin when you buy or sell at least CA$125.63 of digital currency. Claim your invite now:  https://t.co/288OiaWIza\n",
      "1381726874439622656 2021-04-12 23:52:12 +0200 <BitcoinCad> @riverish333  https://t.co/Eb5wtXW9DL\n",
      "1381726869658218504 2021-04-12 23:52:11 +0200 <Bloctrends> La revista #TIME se ha asociado con #grayscale, para lanzar una serie de videos centrados en las #criptomonedas.  Como parte del acuerdo, la publicación icónica acordó recibir el pago en #Bitcoin y mantener la criptomoneda más grande en su balance.  https://t.co/r77GNwWSpL\n",
      "1381726858820083722 2021-04-12 23:52:09 +0200 <cryptowork_s> @binance Thanks for sharing this, you should be doing one $STC. I would be really interested on reading that.   https://t.co/ZDyYAlVA0W  #bitcoin #ethereum $bnb #defi #nft  https://t.co/H68gYe7Ml9\n",
      "1381726850704154625 2021-04-12 23:52:07 +0200 <lovelyjijiji> @OTC_Bitcoin 선생님 미국에 있습니다 트레이드 맏기려면 어떤 거래소를 사용해야하나요?\n",
      "1381726850309849093 2021-04-12 23:52:07 +0200 <neentae> My first #orgonite Bitcoin artifact - Made with Quartz crystals, 14k gold, Copper, river rocks, and epoxy resin ⭐️ Happy Financial Freedom Manifesting ⭐️ Now to turn this into an NFT for one lucky collector💰#pyramid #Bitcoin #nftcollector #resinart #cryptoart #quartz #gold  https://t.co/p1cyW8kulY\n",
      "1381726838934831106 2021-04-12 23:52:04 +0200 <LaCryptoMonnai1>  https://t.co/Kz8eu55PA6, une plateforme unique pour explorer et découvrir les outils de la blockchain – Communiqué de presse Bitcoin News  https://t.co/jXAQsyZjao\n",
      "1381726838796468225 2021-04-12 23:52:04 +0200 <ethhodlgang> Böyle birşey bekliyoruz senden... #ethereum #Bitcoin Konuştur abiliğini bu hafta ....  https://t.co/Xmdqmqrh3k\n",
      "1381726837517193218 2021-04-12 23:52:03 +0200 <tradersdna> Investor Says Bitcoin Bull Run Is Not Just Getting Started, Run-up Is in the 'Top of the 7th Inning' – Markets and Prices Bitcoin News  https://t.co/rfyJkkWZk5\n",
      "1381726837294923779 2021-04-12 23:52:03 +0200 <KevKevSats> Insolvent is an understatement. Buy #bitcoin\n",
      "1381726832265846787 2021-04-12 23:52:02 +0200 <ssg10> @redditinvestors Bitcoin fixes this\n",
      "1381726825827737607 2021-04-12 23:52:01 +0200 <Lifeof4tune> Resist every urge to shalaye @Peruzzi  https://t.co/albxkAv5OR\n",
      "1381726822874939393 2021-04-12 23:52:00 +0200 <MagicOfForest> @EylemCulculoglu Bi de janjanlı 🤣\n",
      "1381726819372650507 2021-04-12 23:51:59 +0200 <blockfolio> *closes twitter for the day*  *checks price of bitcoin*  *opens twitter again to read what everyone is saying\"  *repeat*\n",
      "1381726817388699654 2021-04-12 23:51:59 +0200 <onechan1977> 2ch創設者のひろゆきさんは３月に自殺者が減った際に働くのを辞めると自殺者が減るという発言をなされております。  一方の永江さんは新型コロナで自粛が過度になれば経済が潰れ、経済苦の経済死が増えるということをかねてより指摘しておりました。   https://t.co/1ZsK0wzZgS\n",
      "1381726817220841472 2021-04-12 23:51:59 +0200 <alexbaronio> Make hunger thy sauce, as a medicine for health.  😍  THIS TRADER. HE IS GOING TO MAKE CRAZY CALLS 👇 @MrWhaleWhisper  $BNB #CRYPTO $LINK $QNT $BCH $LTC $XTZ $EOS $REN $BSV $MITX $TRB $OGN #BITCOIN $ONG  4476252465\n",
      "1381726817195847683 2021-04-12 23:51:59 +0200 <Spacereportern1> Shares of bitcoin (BTC, +0.58%) mining machine maker Canaan (Nasdaq: CAN) plummeted after company reported a 75% drop in Q4 revenue on Monday supply-chain issues prevented the company from capitalizing on a roaring bull market and a resulting surge in demand for mining machines.\n",
      "1381726816532983808 2021-04-12 23:51:58 +0200 <CryptoScene_b> Interview: Building A Career In Bitcoin With BtcCasey (Bitcoin Magazine:...)  For this episode of Bitcoin Magazine's \"Meet The Taco Plebs,\" I was joined by BtcCasey (@Btc...  Add your highlights:  https://t.co/L9F22BQhsr  #Crypto #blockchain\n",
      "1381726813093830661 2021-04-12 23:51:58 +0200 <JumboVinceUSA> “Is that a gun?” No it’s my balls. Yes it’s a gun now put the bitcoin in the bag.\n",
      "1381726812934389768 2021-04-12 23:51:58 +0200 <BradInner> @patriottakes Nice to see that Rog took a break from begging for Bitcoin\n",
      "1381726806798127108 2021-04-12 23:51:56 +0200 <BitcoinChosen> @Zectro1 @DanielKrawisz Welcome in to Law world honey 😶🤭😱  You took the bait. Can't wait for the outcome  https://t.co/qzM2mIO1H5\n",
      "1381726806051598342 2021-04-12 23:51:56 +0200 <umit__ates> @cz_binance the currency of the world is not dollars, not gold, not bitcoin. digital currency of the world bnb.this kite made  https://t.co/AMJoI77ThL kite.two people made  https://t.co/VUZ3mft9zA legend  https://t.co/zkayGgrJJf legend cz.\n",
      "1381726799932092418 2021-04-12 23:51:55 +0200 <MlhKagan> İyi fiyattan alan, sabırlı olan, satacağı yeri iyi bilen hep kazanır... #Bitcoin #JulSwap #JULD\n",
      "1381726799667851266 2021-04-12 23:51:54 +0200 <davood_eldeniz> Gazeteci Mutlu Tönbekici Bitcoin'de kaç bin lira kaybettiğini açıkladı. Ben yandım siz yanmayınız  https://t.co/cUoN05t9Xi\n",
      "1381726790318690305 2021-04-12 23:51:52 +0200 <zbitcoin> @AbdallahCoin كفو ✈️🚀🌕\n",
      "1381726784614510600 2021-04-12 23:51:51 +0200 <HodlingBitcoin> Bitcoin price: latest updates on BTC’s trend  https://t.co/xrrQd9FOxT\n",
      "1381726783523930113 2021-04-12 23:51:51 +0200 <_DigitalJel_> @JessicaVaugn I’ve said for awhile the he’s gained more following being a Bitcoin troll. Why abandon the winning horse until it’s time to retire it?\n",
      "1381726780831186947 2021-04-12 23:51:50 +0200 <Bitcoin8News> The $BTC price is at $59958.17 right now. 🟢 Compared to the last tweet, the price has increased by $64.26 (0.11%). 🟢 In the last 24 hours the price has increased by $398.22 (0.67%).  #Bitcoin #BTC\n",
      "1381726780067823618 2021-04-12 23:51:50 +0200 <SolePurpose> USHBUCKS &gt; Bitcoin\n",
      "1381726777194598400 2021-04-12 23:51:49 +0200 <cali_bitcoin> @TaritaC @doublespeak152 @JodiP1102 @obonicus @jassmine_b @EliLake @ggreenwald @mattgaetz Reposting this for you  https://t.co/FvWbFFciIj\n",
      "1381726776506847235 2021-04-12 23:51:49 +0200 <PortsmouthBTC> #Bitcoin OGs\n",
      "1381726775869276166 2021-04-12 23:51:49 +0200 <5ilencer> @pragmatist9696 There's nothing pretty to speak of. Other than our dreams.\n",
      "1381726767757529088 2021-04-12 23:51:47 +0200 <FullTimeBitcoin> @AMERICANHODL3 Fuck.\n",
      "1381726764091781125 2021-04-12 23:51:46 +0200 <_OTC_Bitcoin___> @BokKiMin3 젠장   바이 낸스에서 구매할 수있는 상품이 너무 많습니다 !!!   0.3BTC를 가지고 있다면 당신은 여기에 있습니다!\n",
      "1381726761528999939 2021-04-12 23:51:45 +0200 <blaizebitcoin> @MichaelRinga @LinkedIn @skygolpe @kurtoshi @duckdarryl @mitchem Love this, I own this complete set 🔥🔥🔥🔥🔥\n",
      "1381726761067614212 2021-04-12 23:51:45 +0200 <StackerCoin> @LibertyBlitz Really? I feel as though Iit defeats the purpose of Bitcoin as outlined in the white paper.\n",
      "1381726758228090884 2021-04-12 23:51:45 +0200 <YourCryptoRadar> 🪙📲 Die #Wallet-Retter: Wie ein #Berliner Unternehmen #Bitcoin- undEthereum-Wallets wiederherstellen kann  https://t.co/LdbOTFkEh9 via @btcecho\n",
      "1381726753735933953 2021-04-12 23:51:43 +0200 <DoctorKlever> TAKE NOTICE CRYPTO WORLD  $BSC $XRP $ETH $BTC #Bitcoin #TRON $ETH $ADA $LTC $DOT $XVG $XLM #GME #Ethereum #xrpthestandard #Uniswap #DeFi #ALTSEASON #Coinbase #ADA #altcoins #BTC #cryptocurrencies #cryptocurrency #Enjin $VRA\n",
      "1381726749289897984 2021-04-12 23:51:42 +0200 <unpaidprotestee> @Stoeney1 Hedge Funds waiting on ETFs to hypothocate your (not your) Bitcoin to hell.  https://t.co/z5TUOQmqm6\n",
      "1381726742641999873 2021-04-12 23:51:41 +0200 <Alyne_Lee> I play and get Cashback! 🤑 The more you play on @betfury - the higher Rank and Cashback amount you will get! My Username: User4529 #betfurysuccess #bitcoin #staking\n",
      "1381726740280672262 2021-04-12 23:51:40 +0200 <abcbitcoin860> @cuervo_sanz @TradingLatino Por eso es importante lo del vídeo del teorema de Bayes.... Saber q es un conjunto y no por indicadores.... Justamente ahí se aplica q unas veces está el ADX con pendiente negativa y otra con positiva.... Hay q analizar todo el entorno...\n",
      "1381726737919250433 2021-04-12 23:51:40 +0200 <kymmer7691> @KimMerville Seriously thou!!\n",
      "1381726737550151682 2021-04-12 23:51:40 +0200 <CountBitcoin> @michael_saylor The #Bitcoin Community needs you\n",
      "1381726737130778626 2021-04-12 23:51:40 +0200 <satoshihoarder_> Well this is boring.. I didn’t sign up for this when I joined this revolution #Bitcoin #60k  https://t.co/R6DaGraZUI\n",
      "1381726733729140736 2021-04-12 23:51:39 +0200 <timothy_bruss> @ruskadevushka_ Better to be like Costa Rica &gt; no military allowed !!\n",
      "1381726732722528259 2021-04-12 23:51:38 +0200 <BitcoinCongo> @central_sage @MichelMwika  https://t.co/aFDCZfbRIj\n",
      "1381726728423419905 2021-04-12 23:51:37 +0200 <Lucent08085284> @DaniellaMicaela Investment Is The Only Key 🔑 To Financial Success, The Time Is Now Don’t Miss This Opportunity  Join link to start earning weekly/monthly with bitcoin  Join now 👇👇👇  https://t.co/7YRdXtlDDi  https://t.co/Kh89b7zz5f\n",
      "1381726727047643137 2021-04-12 23:51:37 +0200 <fatima_geller> Bitcoin'in Kurucusu Satoshi Nakamoto Kimdir? Gerçek mi yoksa Hayali mi?  https://t.co/iwE2tyaoO2\n",
      "1381726723985735682 2021-04-12 23:51:36 +0200 <FrancisMansapit> Bitcoin Price READY TO SURGE As WALMART To Announce  One Billion Worth o...  https://t.co/ohWi7Dbmvo via @YouTube\n",
      "1381726723667021831 2021-04-12 23:51:36 +0200 <bamkix> $AAVE 🚀  #altcoins #bitcoin $btc\n",
      "1381726716020862981 2021-04-12 23:51:34 +0200 <Hodl_JESUS> could a #Bitcoin whale, who is maybe not happy w/ segwit history, be disruptive to a crypto exchange IPO?\n",
      "1381726713793576960 2021-04-12 23:51:34 +0200 <AndrewGarciaCo2> @Steam Someone created a bot thru discord to impersonate a Steam Developer &amp; Support Team to steal  accounts and asking for a Ransom by using bitcoin and making users to repurchase all of the games. The bot changed the user name of the steam account, and hide its tracks\n",
      "1381726711000223747 2021-04-12 23:51:33 +0200 <PS641600> Microstrategy To Pay Board Members In Bitcoin  https://t.co/3QlRdqq5zL\n",
      "1381726709188284416 2021-04-12 23:51:33 +0200 <sthakali123> @GoingParabolic Sell all your cars if you have more than one and buy bitcoin\n",
      "1381726698660577280 2021-04-12 23:51:30 +0200 <NobbyBitcoin> @EssenceSatoshi What if you need the vaccine to move away?\n",
      "1381726696571686914 2021-04-12 23:51:30 +0200 <btcjpyMarket>  https://t.co/4JqiDqkUEY #btc #ビットコイン #bitcoin #仮想通貨 #cryptocurrency #jpy #暗号通貨 #ニュース\n",
      "1381726694780833795 2021-04-12 23:51:29 +0200 <diegoagueroz> My name is Bitcoin Shogun, I’m a Bitcoin Pleb and I am balls deep in #bitcoin\n",
      "1381726692176171011 2021-04-12 23:51:29 +0200 <zZHeadDeadZz1> sobe sobe sobe sobe sobe BITCOIN\n",
      "1381726683649150981 2021-04-12 23:51:27 +0200 <vixencowgirl> Mining Bitcoin with your phone has never been this easy, learn how to do this in this telegram channel free of charge. Don't forget BTC is on the rise now. Avail yourself this opportunity.   https://t.co/p39CFrZJsy\n",
      "1381726680952225794 2021-04-12 23:51:26 +0200 <Focus20206> Adonx @adon_network is going places 🚀🚀🚀 @adon_network #AdonX @exchanger @Bitcoin   https://t.co/NLGQCFZosV\n",
      "1381726677185728514 2021-04-12 23:51:25 +0200 <BIGBLACKCRYPTOE> Its more than just pay me in bitcoin! Its pay me on Wednesday so I can beat errbody 2market before Thursday. I need a leg up on a society w/ a Thursday schedule. I know the value potential of the timing. #PAIDINFULL #PAIDINCRYPTO #HOLOCHAIN @Simmonds17  @JozyAltidore @KevinWeekes\n",
      "1381726674526556160 2021-04-12 23:51:25 +0200 <lovelyjijiji> @OTC_Bitcoin For us customer, what exchange need?\n",
      "1381726658881851396 2021-04-12 23:51:21 +0200 <gladroger>  https://t.co/piUEJnzsTJ Join the waitlist for the BlockFi credit card with my link and we’ll both start earning bitcoin soon.\n",
      "1381726654960185349 2021-04-12 23:51:20 +0200 <GorwaniNikhil> Bitcoin's Creator Satoshi Nakamoto Is Now a Member of the Top 20 World's Richest People – Featured Bitcoin News #btc #bitcoin   https://t.co/O5p30V9T0R\n",
      "1381726652363763713 2021-04-12 23:51:19 +0200 <BaddCompani> 'Bitcoin or Bust', well I declare🤪🤣✌️\n",
      "1381726647884259329 2021-04-12 23:51:18 +0200 <robmactwit> @michael_saylor announcement re paying MicroStrategy board members in #bitcoin is one small step for bitcoin, one giant leap for world currency @realmaxkeiser @APompliano @chamath @mcuban @tyler @cameron @danheld @novogratz\n",
      "1381726647209058305 2021-04-12 23:51:18 +0200 <BrookeFinancial> Yes we are in Crypto Season, $BNB and $TWT doing well which are my two heaviest position, $VET missed the call to the party but I expect it to bounce back soon. Also my low-cap #MYST is warming up... #BNB #TWT #VET #Bitcoin #INFT  https://t.co/9dVyFUcPI6\n",
      "1381726635062407170 2021-04-12 23:51:15 +0200 <bmurphypointman> #earn #earnmoney #affiliate  Check my website for my top recommended #crypto sites! #bitcoin #dogecoin #affiliatemarketing  https://t.co/xqJuum5W2i\n",
      "1381726634751967235 2021-04-12 23:51:15 +0200 <bmurphypointman> #bitcoin #crypto #cyrptocurrency #earnmoney #money   #crypto #cryptocurrency #cryptocurrenices #dogearmy #dogecoin #affiliatemarketing PipeFlare - free #ZEC and #doge #faucet - free games and earn #cryptocoin  https://t.co/7tvVbbecvT\n",
      "1381726630289235970 2021-04-12 23:51:14 +0200 <BITCOIN_AL_DIA> Análisis del mercado de criptomonedas. Retuitead por favor. Gracias. #Bitcoin, seguimos a la espera del retroceso con las altcoins anticipandose.  https://t.co/LpMpnXSOGi\n",
      "1381726629534240775 2021-04-12 23:51:14 +0200 <bmurphypointman> #earnmoney #earn #money #cashback #affiliatemarketing Check my #website #makemoney #earnmoney #affiliate #referral #cashback #crypto #shopping #travel #business #bitcoin #dogecoin  https://t.co/vBHLD11zwQ\n",
      "1381726626728321026 2021-04-12 23:51:13 +0200 <DanielaColi2> Al contrario di Goldman Sachs Group Inc  HSBC vieta ai clienti di comprare azioni in bitcoin\n",
      "1381726626250158082 2021-04-12 23:51:13 +0200 <twt_sultan> @oppicial_ahmad @dan_hausa88 @more_sadeek @Atombit3 #Cryptocurrency #Ethereum #Bitcoin #BSC #BinanceSmartChain Excellent project #Teddyswap #Teddy #Presale Buy more, get rich 🤑\n",
      "1381726625650376707 2021-04-12 23:51:13 +0200 <davidcat24> @DirtFisher3030 @american_grumpy @RussellOkung Getting mad at someone asking for Bitcoin as a joke over Twitter goes to show how low and uninteresting your life has become\n",
      "1381726624446439426 2021-04-12 23:51:13 +0200 <bmurphypointman> #earn #earnmoney #affiliate  #bitcoin #affiliatemarketing Check my website for my top recommended #travel sites  https://t.co/Hk21gxbHrQ\n",
      "1381726616963911686 2021-04-12 23:51:11 +0200 <rnorman228> @PGoodrich6 Worried about competition for bitcoin!\n",
      "1381726616556949504 2021-04-12 23:51:11 +0200 <coinbase> In this week’s report: #Bitcoin-mining stocks heat up, real-estate giant to accept crypto for rent, and Tom Brady joins NFT boom  https://t.co/zozFgxGSAP\n",
      "1381726613436567554 2021-04-12 23:51:10 +0200 <asferna2810> @volodarik @hello_bitcoin\n"
     ]
    }
   ],
   "source": [
    "#running search\n",
    "twint.run.Search(config)"
   ]
  },
  {
   "cell_type": "code",
   "execution_count": null,
   "id": "3de1f722-fefa-40c5-8129-2245cb176adb",
   "metadata": {},
   "outputs": [],
   "source": []
  }
 ],
 "metadata": {
  "kernelspec": {
   "display_name": "Python 3",
   "language": "python",
   "name": "python3"
  },
  "language_info": {
   "codemirror_mode": {
    "name": "ipython",
    "version": 3
   },
   "file_extension": ".py",
   "mimetype": "text/x-python",
   "name": "python",
   "nbconvert_exporter": "python",
   "pygments_lexer": "ipython3",
   "version": "3.8.8"
  }
 },
 "nbformat": 4,
 "nbformat_minor": 5
}
