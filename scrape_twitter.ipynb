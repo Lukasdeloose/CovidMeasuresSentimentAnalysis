{
 "cells": [
  {
   "cell_type": "code",
   "execution_count": 1,
   "id": "43c8acd0-d94c-4fe9-b310-fe19b19136b7",
   "metadata": {},
   "outputs": [],
   "source": [
    "import tweepy\n",
    "import os"
   ]
  },
  {
   "cell_type": "code",
   "execution_count": 2,
   "id": "557e5e80-8e9a-4c48-bc84-d686bf6b3b09",
   "metadata": {},
   "outputs": [],
   "source": [
    "auth = tweepy.OAuthHandler(os.getenv(\"twitter_api_key\"), os.getenv(\"twitter_api_secret_key\"))"
   ]
  },
  {
   "cell_type": "code",
   "execution_count": 3,
   "id": "7c20b9af-b88d-4ed0-9c1a-3841d42c1cb4",
   "metadata": {},
   "outputs": [],
   "source": [
    "auth.set_access_token(os.getenv(\"twitter_access_token\"), os.getenv(\"twitter_access_token_secret\"))\n",
    "\n",
    "api = tweepy.API(auth)"
   ]
  },
  {
   "cell_type": "code",
   "execution_count": 4,
   "id": "dbb96235-ef91-4b65-b250-c55011949ad8",
   "metadata": {},
   "outputs": [],
   "source": [
    "try:\n",
    "    redirect_url = auth.get_authorization_url()\n",
    "except tweepy.TweepError:\n",
    "    print('Error! Failed to get request token.')\n"
   ]
  },
  {
   "cell_type": "code",
   "execution_count": 5,
   "id": "bdccb7db-1427-4c80-919d-bab813c497c7",
   "metadata": {},
   "outputs": [
    {
     "name": "stdout",
     "output_type": "stream",
     "text": [
      "RT @Foone: I find this incredibly funny. It's a smart shower! that sounds great. except...\n",
      "wil gewoon efkes benoemen dat er 2 boomers kwaad zijn op de jongeren maar ‘t zijn wij die zeuren hoor :)))))))\n",
      "RT @POTUS: “When the will defies fear, when duty throws the gauntlet down to fate, when honor scorns to compromise with death — that is her…\n",
      "RT @RalfBodelier: De kans dat het Jansen-vaccin je bloed laat klonteren (1 op de 1,1 miljoen) is vergelijkbaar met het getroffen worden doo…\n",
      "Yep, heel interessante podcast van mijn neef ;-) https://t.co/5iinlDI7eb\n",
      "I applaud President Biden for making the brave and right decision to withdraw U.S. troops from Afghanistan and brin… https://t.co/usmY1ee1Qp\n",
      "RT @POTUS: Race should never determine health outcomes — and pregnancy and childbirth should be safe for all. But for too many Black women,…\n",
      "A nation will not survive morally or economically when so few have so much and so many have so little. It is time f… https://t.co/rReY4cGVIj\n",
      "RT @MartinValenti1: Great opportunity to work with the inspiring MBL folks so do please share far &amp; wide\n",
      "Ik zou voorzichtig durven tussentijds concluderen dat Hein vindt dat Kimmich niet zo lekker in de match zit #PSGBayern\n",
      "RT @ziontree: ･ *ﾟ\n",
      "　 ･ ﾟ*\n",
      "     ･｡     \n",
      "   *･｡\n",
      "      *.｡ \n",
      "           ｡･\n",
      "              °*. ﾟ\n",
      "  Science tells us that the release of \n",
      "   treat…\n",
      "sterkte iedereen weer met patchen vanavond https://t.co/Je4vFUpfZA\n",
      "While fossil fuel companies get rich off destroying our planet for future generations, American taxpayers are force… https://t.co/tv2d5C0ANF\n",
      "https://t.co/1wZ6C8dfJY https://t.co/eldFEmy4ky\n",
      "Dat open terrassen helpen om illegale feestjes te vermijden, is een voorbeeld van wensdenken https://t.co/Itx1ugRKTx via @demorgen\n",
      "https://t.co/8BtZhNzyoZ\n",
      "RT @JPeterBurger: PVV-Statenlid @ReneDercksen verspreidt hoax over Tagesschau: nee, daar hebben ze niet de kleurschaal aangepast om besmett…\n",
      "'Lichte schade': deze tweet vat Tinder voor 27+'ers eigenlijk mooi samen. https://t.co/LtLxLqyF1J\n",
      "ik schreeuw https://t.co/hY0Imu2NLP\n",
      "Kan ze niet gewoon zeggen dat de komende weken cruciaal zijn? https://t.co/DpAnGjOMlM\n"
     ]
    }
   ],
   "source": [
    "public_tweets = api.home_timeline()\n",
    "for tweet in public_tweets:\n",
    "    print(tweet.text)"
   ]
  },
  {
   "cell_type": "code",
   "execution_count": null,
   "id": "1adb2683-eeea-434a-ab64-3bfdccd6afca",
   "metadata": {},
   "outputs": [],
   "source": []
  }
 ],
 "metadata": {
  "kernelspec": {
   "display_name": "Python 3",
   "language": "python",
   "name": "python3"
  },
  "language_info": {
   "codemirror_mode": {
    "name": "ipython",
    "version": 3
   },
   "file_extension": ".py",
   "mimetype": "text/x-python",
   "name": "python",
   "nbconvert_exporter": "python",
   "pygments_lexer": "ipython3",
   "version": "3.8.8"
  }
 },
 "nbformat": 4,
 "nbformat_minor": 5
}
